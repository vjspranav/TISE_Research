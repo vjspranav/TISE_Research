{
 "cells": [
  {
   "cell_type": "code",
   "execution_count": 21,
   "metadata": {},
   "outputs": [],
   "source": [
    "import pandas as pd\n",
    "import json\n",
    "import plotly.express as px"
   ]
  },
  {
   "cell_type": "code",
   "execution_count": 3,
   "metadata": {},
   "outputs": [],
   "source": [
    "issues = {}\n",
    "with open('issues.json') as f:\n",
    "    issues = json.load(f)"
   ]
  },
  {
   "cell_type": "code",
   "execution_count": 4,
   "metadata": {},
   "outputs": [],
   "source": [
    "df = pd.DataFrame(issues)"
   ]
  },
  {
   "cell_type": "code",
   "execution_count": 5,
   "metadata": {},
   "outputs": [
    {
     "data": {
      "text/plain": [
       "3133"
      ]
     },
     "execution_count": 5,
     "metadata": {},
     "output_type": "execute_result"
    }
   ],
   "source": [
    "# Length of the dataframe\n",
    "len(df)"
   ]
  },
  {
   "cell_type": "code",
   "execution_count": 9,
   "metadata": {},
   "outputs": [],
   "source": [
    "# Get a list of all labels\n",
    "\n",
    "# labels = [ label['name'] for issue in issues for label in issue['labels'] if label['name'] not in labels ]\n",
    "# labels = list(set(labels))"
   ]
  },
  {
   "cell_type": "code",
   "execution_count": 7,
   "metadata": {},
   "outputs": [],
   "source": [
    "# Filter out issues which don't have any of the following labels\n",
    "wanted_isses = ['bug', 'enhancement', 'help wanted', 'core / type conversions',  'size & load time optimization', 'build', 'performance']"
   ]
  },
  {
   "cell_type": "code",
   "execution_count": 10,
   "metadata": {},
   "outputs": [
    {
     "data": {
      "text/plain": [
       "376"
      ]
     },
     "execution_count": 10,
     "metadata": {},
     "output_type": "execute_result"
    }
   ],
   "source": [
    "df = df[df['labels'].apply(lambda x: any([label['name'] in wanted_isses for label in x]))]\n",
    "len(df)"
   ]
  },
  {
   "cell_type": "code",
   "execution_count": 11,
   "metadata": {},
   "outputs": [
    {
     "data": {
      "text/html": [
       "<div>\n",
       "<style scoped>\n",
       "    .dataframe tbody tr th:only-of-type {\n",
       "        vertical-align: middle;\n",
       "    }\n",
       "\n",
       "    .dataframe tbody tr th {\n",
       "        vertical-align: top;\n",
       "    }\n",
       "\n",
       "    .dataframe thead th {\n",
       "        text-align: right;\n",
       "    }\n",
       "</style>\n",
       "<table border=\"1\" class=\"dataframe\">\n",
       "  <thead>\n",
       "    <tr style=\"text-align: right;\">\n",
       "      <th></th>\n",
       "      <th>url</th>\n",
       "      <th>repository_url</th>\n",
       "      <th>labels_url</th>\n",
       "      <th>comments_url</th>\n",
       "      <th>events_url</th>\n",
       "      <th>html_url</th>\n",
       "      <th>id</th>\n",
       "      <th>node_id</th>\n",
       "      <th>number</th>\n",
       "      <th>title</th>\n",
       "      <th>...</th>\n",
       "      <th>closed_at</th>\n",
       "      <th>author_association</th>\n",
       "      <th>active_lock_reason</th>\n",
       "      <th>body</th>\n",
       "      <th>reactions</th>\n",
       "      <th>timeline_url</th>\n",
       "      <th>performed_via_github_app</th>\n",
       "      <th>state_reason</th>\n",
       "      <th>draft</th>\n",
       "      <th>pull_request</th>\n",
       "    </tr>\n",
       "  </thead>\n",
       "  <tbody>\n",
       "    <tr>\n",
       "      <th>0</th>\n",
       "      <td>https://api.github.com/repos/pyodide/pyodide/i...</td>\n",
       "      <td>https://api.github.com/repos/pyodide/pyodide</td>\n",
       "      <td>https://api.github.com/repos/pyodide/pyodide/i...</td>\n",
       "      <td>https://api.github.com/repos/pyodide/pyodide/i...</td>\n",
       "      <td>https://api.github.com/repos/pyodide/pyodide/i...</td>\n",
       "      <td>https://github.com/pyodide/pyodide/issues/3207</td>\n",
       "      <td>1423422059</td>\n",
       "      <td>I_kwDOB0-w-85U17Jr</td>\n",
       "      <td>3207</td>\n",
       "      <td>Test failure regarding pytest 7.2.0 update</td>\n",
       "      <td>...</td>\n",
       "      <td>None</td>\n",
       "      <td>MEMBER</td>\n",
       "      <td>None</td>\n",
       "      <td>Recent pytest 7.2.0 update dropped `py` depend...</td>\n",
       "      <td>{'url': 'https://api.github.com/repos/pyodide/...</td>\n",
       "      <td>https://api.github.com/repos/pyodide/pyodide/i...</td>\n",
       "      <td>None</td>\n",
       "      <td>None</td>\n",
       "      <td>NaN</td>\n",
       "      <td>NaN</td>\n",
       "    </tr>\n",
       "    <tr>\n",
       "      <th>4</th>\n",
       "      <td>https://api.github.com/repos/pyodide/pyodide/i...</td>\n",
       "      <td>https://api.github.com/repos/pyodide/pyodide</td>\n",
       "      <td>https://api.github.com/repos/pyodide/pyodide/i...</td>\n",
       "      <td>https://api.github.com/repos/pyodide/pyodide/i...</td>\n",
       "      <td>https://api.github.com/repos/pyodide/pyodide/i...</td>\n",
       "      <td>https://github.com/pyodide/pyodide/issues/3203</td>\n",
       "      <td>1420918942</td>\n",
       "      <td>I_kwDOB0-w-85UsYCe</td>\n",
       "      <td>3203</td>\n",
       "      <td>Fatal error with snippet using `np.random` and...</td>\n",
       "      <td>...</td>\n",
       "      <td>None</td>\n",
       "      <td>NONE</td>\n",
       "      <td>None</td>\n",
       "      <td>## 🐛 Bug\\r\\n\\r\\nI get a fatal error when tryin...</td>\n",
       "      <td>{'url': 'https://api.github.com/repos/pyodide/...</td>\n",
       "      <td>https://api.github.com/repos/pyodide/pyodide/i...</td>\n",
       "      <td>None</td>\n",
       "      <td>None</td>\n",
       "      <td>NaN</td>\n",
       "      <td>NaN</td>\n",
       "    </tr>\n",
       "    <tr>\n",
       "      <th>7</th>\n",
       "      <td>https://api.github.com/repos/pyodide/pyodide/i...</td>\n",
       "      <td>https://api.github.com/repos/pyodide/pyodide</td>\n",
       "      <td>https://api.github.com/repos/pyodide/pyodide/i...</td>\n",
       "      <td>https://api.github.com/repos/pyodide/pyodide/i...</td>\n",
       "      <td>https://api.github.com/repos/pyodide/pyodide/i...</td>\n",
       "      <td>https://github.com/pyodide/pyodide/issues/3200</td>\n",
       "      <td>1419786501</td>\n",
       "      <td>I_kwDOB0-w-85UoDkF</td>\n",
       "      <td>3200</td>\n",
       "      <td>asmjs needed</td>\n",
       "      <td>...</td>\n",
       "      <td>2022-10-23T14:05:35Z</td>\n",
       "      <td>NONE</td>\n",
       "      <td>None</td>\n",
       "      <td>## 🚀 Feature\\n\\nemscripten can compile c/cpp t...</td>\n",
       "      <td>{'url': 'https://api.github.com/repos/pyodide/...</td>\n",
       "      <td>https://api.github.com/repos/pyodide/pyodide/i...</td>\n",
       "      <td>None</td>\n",
       "      <td>completed</td>\n",
       "      <td>NaN</td>\n",
       "      <td>NaN</td>\n",
       "    </tr>\n",
       "    <tr>\n",
       "      <th>8</th>\n",
       "      <td>https://api.github.com/repos/pyodide/pyodide/i...</td>\n",
       "      <td>https://api.github.com/repos/pyodide/pyodide</td>\n",
       "      <td>https://api.github.com/repos/pyodide/pyodide/i...</td>\n",
       "      <td>https://api.github.com/repos/pyodide/pyodide/i...</td>\n",
       "      <td>https://api.github.com/repos/pyodide/pyodide/i...</td>\n",
       "      <td>https://github.com/pyodide/pyodide/issues/3199</td>\n",
       "      <td>1419505236</td>\n",
       "      <td>I_kwDOB0-w-85Um-5U</td>\n",
       "      <td>3199</td>\n",
       "      <td>netERR_ABORTED 404 (Not Found) using pyodide</td>\n",
       "      <td>...</td>\n",
       "      <td>2022-10-25T15:31:01Z</td>\n",
       "      <td>NONE</td>\n",
       "      <td>None</td>\n",
       "      <td>I'm trying to integrate pyodide into my svelte...</td>\n",
       "      <td>{'url': 'https://api.github.com/repos/pyodide/...</td>\n",
       "      <td>https://api.github.com/repos/pyodide/pyodide/i...</td>\n",
       "      <td>None</td>\n",
       "      <td>completed</td>\n",
       "      <td>NaN</td>\n",
       "      <td>NaN</td>\n",
       "    </tr>\n",
       "    <tr>\n",
       "      <th>9</th>\n",
       "      <td>https://api.github.com/repos/pyodide/pyodide/i...</td>\n",
       "      <td>https://api.github.com/repos/pyodide/pyodide</td>\n",
       "      <td>https://api.github.com/repos/pyodide/pyodide/i...</td>\n",
       "      <td>https://api.github.com/repos/pyodide/pyodide/i...</td>\n",
       "      <td>https://api.github.com/repos/pyodide/pyodide/i...</td>\n",
       "      <td>https://github.com/pyodide/pyodide/issues/3198</td>\n",
       "      <td>1419378349</td>\n",
       "      <td>I_kwDOB0-w-85Umf6t</td>\n",
       "      <td>3198</td>\n",
       "      <td>Enable ripemd160 support in hashlib</td>\n",
       "      <td>...</td>\n",
       "      <td>2022-10-26T01:59:03Z</td>\n",
       "      <td>NONE</td>\n",
       "      <td>None</td>\n",
       "      <td>## 🚀 Feature\\r\\n\\r\\nEnable ripemd160 support i...</td>\n",
       "      <td>{'url': 'https://api.github.com/repos/pyodide/...</td>\n",
       "      <td>https://api.github.com/repos/pyodide/pyodide/i...</td>\n",
       "      <td>None</td>\n",
       "      <td>completed</td>\n",
       "      <td>NaN</td>\n",
       "      <td>NaN</td>\n",
       "    </tr>\n",
       "  </tbody>\n",
       "</table>\n",
       "<p>5 rows × 30 columns</p>\n",
       "</div>"
      ],
      "text/plain": [
       "                                                 url  \\\n",
       "0  https://api.github.com/repos/pyodide/pyodide/i...   \n",
       "4  https://api.github.com/repos/pyodide/pyodide/i...   \n",
       "7  https://api.github.com/repos/pyodide/pyodide/i...   \n",
       "8  https://api.github.com/repos/pyodide/pyodide/i...   \n",
       "9  https://api.github.com/repos/pyodide/pyodide/i...   \n",
       "\n",
       "                                 repository_url  \\\n",
       "0  https://api.github.com/repos/pyodide/pyodide   \n",
       "4  https://api.github.com/repos/pyodide/pyodide   \n",
       "7  https://api.github.com/repos/pyodide/pyodide   \n",
       "8  https://api.github.com/repos/pyodide/pyodide   \n",
       "9  https://api.github.com/repos/pyodide/pyodide   \n",
       "\n",
       "                                          labels_url  \\\n",
       "0  https://api.github.com/repos/pyodide/pyodide/i...   \n",
       "4  https://api.github.com/repos/pyodide/pyodide/i...   \n",
       "7  https://api.github.com/repos/pyodide/pyodide/i...   \n",
       "8  https://api.github.com/repos/pyodide/pyodide/i...   \n",
       "9  https://api.github.com/repos/pyodide/pyodide/i...   \n",
       "\n",
       "                                        comments_url  \\\n",
       "0  https://api.github.com/repos/pyodide/pyodide/i...   \n",
       "4  https://api.github.com/repos/pyodide/pyodide/i...   \n",
       "7  https://api.github.com/repos/pyodide/pyodide/i...   \n",
       "8  https://api.github.com/repos/pyodide/pyodide/i...   \n",
       "9  https://api.github.com/repos/pyodide/pyodide/i...   \n",
       "\n",
       "                                          events_url  \\\n",
       "0  https://api.github.com/repos/pyodide/pyodide/i...   \n",
       "4  https://api.github.com/repos/pyodide/pyodide/i...   \n",
       "7  https://api.github.com/repos/pyodide/pyodide/i...   \n",
       "8  https://api.github.com/repos/pyodide/pyodide/i...   \n",
       "9  https://api.github.com/repos/pyodide/pyodide/i...   \n",
       "\n",
       "                                         html_url          id  \\\n",
       "0  https://github.com/pyodide/pyodide/issues/3207  1423422059   \n",
       "4  https://github.com/pyodide/pyodide/issues/3203  1420918942   \n",
       "7  https://github.com/pyodide/pyodide/issues/3200  1419786501   \n",
       "8  https://github.com/pyodide/pyodide/issues/3199  1419505236   \n",
       "9  https://github.com/pyodide/pyodide/issues/3198  1419378349   \n",
       "\n",
       "              node_id  number  \\\n",
       "0  I_kwDOB0-w-85U17Jr    3207   \n",
       "4  I_kwDOB0-w-85UsYCe    3203   \n",
       "7  I_kwDOB0-w-85UoDkF    3200   \n",
       "8  I_kwDOB0-w-85Um-5U    3199   \n",
       "9  I_kwDOB0-w-85Umf6t    3198   \n",
       "\n",
       "                                               title  ...  \\\n",
       "0         Test failure regarding pytest 7.2.0 update  ...   \n",
       "4  Fatal error with snippet using `np.random` and...  ...   \n",
       "7                                       asmjs needed  ...   \n",
       "8       netERR_ABORTED 404 (Not Found) using pyodide  ...   \n",
       "9                Enable ripemd160 support in hashlib  ...   \n",
       "\n",
       "              closed_at author_association active_lock_reason  \\\n",
       "0                  None             MEMBER               None   \n",
       "4                  None               NONE               None   \n",
       "7  2022-10-23T14:05:35Z               NONE               None   \n",
       "8  2022-10-25T15:31:01Z               NONE               None   \n",
       "9  2022-10-26T01:59:03Z               NONE               None   \n",
       "\n",
       "                                                body  \\\n",
       "0  Recent pytest 7.2.0 update dropped `py` depend...   \n",
       "4  ## 🐛 Bug\\r\\n\\r\\nI get a fatal error when tryin...   \n",
       "7  ## 🚀 Feature\\n\\nemscripten can compile c/cpp t...   \n",
       "8  I'm trying to integrate pyodide into my svelte...   \n",
       "9  ## 🚀 Feature\\r\\n\\r\\nEnable ripemd160 support i...   \n",
       "\n",
       "                                           reactions  \\\n",
       "0  {'url': 'https://api.github.com/repos/pyodide/...   \n",
       "4  {'url': 'https://api.github.com/repos/pyodide/...   \n",
       "7  {'url': 'https://api.github.com/repos/pyodide/...   \n",
       "8  {'url': 'https://api.github.com/repos/pyodide/...   \n",
       "9  {'url': 'https://api.github.com/repos/pyodide/...   \n",
       "\n",
       "                                        timeline_url performed_via_github_app  \\\n",
       "0  https://api.github.com/repos/pyodide/pyodide/i...                     None   \n",
       "4  https://api.github.com/repos/pyodide/pyodide/i...                     None   \n",
       "7  https://api.github.com/repos/pyodide/pyodide/i...                     None   \n",
       "8  https://api.github.com/repos/pyodide/pyodide/i...                     None   \n",
       "9  https://api.github.com/repos/pyodide/pyodide/i...                     None   \n",
       "\n",
       "   state_reason draft pull_request  \n",
       "0          None   NaN          NaN  \n",
       "4          None   NaN          NaN  \n",
       "7     completed   NaN          NaN  \n",
       "8     completed   NaN          NaN  \n",
       "9     completed   NaN          NaN  \n",
       "\n",
       "[5 rows x 30 columns]"
      ]
     },
     "execution_count": 11,
     "metadata": {},
     "output_type": "execute_result"
    }
   ],
   "source": [
    "df.head()"
   ]
  },
  {
   "cell_type": "code",
   "execution_count": 12,
   "metadata": {},
   "outputs": [
    {
     "name": "stdout",
     "output_type": "stream",
     "text": [
      "DF_OPEN:  419\n",
      "DF_CLOSED:  2814\n",
      "After filtering\n",
      "DF_OPEN:  143\n",
      "DF_CLOSED:  262\n"
     ]
    }
   ],
   "source": [
    "# Same as above for issues_open.json and issues_closed.json\n",
    "\n",
    "issues_open = {}\n",
    "with open('issues_open.json') as f:\n",
    "    issues_open = json.load(f)\n",
    "\n",
    "df_open = pd.DataFrame(issues_open)\n",
    "\n",
    "issues_closed = {}\n",
    "with open('issues_closed.json') as f:\n",
    "    issues_closed = json.load(f)\n",
    "\n",
    "df_closed = pd.DataFrame(issues_closed)\n",
    "\n",
    "print('DF_OPEN: ', len(df_open))\n",
    "print('DF_CLOSED: ', len(df_closed))\n",
    "df_open = df_open[df_open['labels'].apply(lambda x: any([label['name'] in wanted_isses for label in x]))]\n",
    "df_closed = df_closed[df_closed['labels'].apply(lambda x: any([label['name'] in wanted_isses for label in x]))]\n",
    "\n",
    "print('After filtering')\n",
    "print('DF_OPEN: ', len(df_open))\n",
    "print('DF_CLOSED: ', len(df_closed))\n"
   ]
  },
  {
   "cell_type": "code",
   "execution_count": 13,
   "metadata": {},
   "outputs": [
    {
     "data": {
      "text/plain": [
       "Index(['url', 'repository_url', 'labels_url', 'comments_url', 'events_url',\n",
       "       'html_url', 'id', 'node_id', 'number', 'title', 'user', 'labels',\n",
       "       'state', 'locked', 'assignee', 'assignees', 'milestone', 'comments',\n",
       "       'created_at', 'updated_at', 'closed_at', 'author_association',\n",
       "       'active_lock_reason', 'body', 'reactions', 'timeline_url',\n",
       "       'performed_via_github_app', 'state_reason', 'draft', 'pull_request'],\n",
       "      dtype='object')"
      ]
     },
     "execution_count": 13,
     "metadata": {},
     "output_type": "execute_result"
    }
   ],
   "source": [
    "df_open.columns"
   ]
  },
  {
   "cell_type": "code",
   "execution_count": 14,
   "metadata": {},
   "outputs": [],
   "source": [
    "to_remove = ['url', 'repository_url', 'labels_url', 'comments_url', 'events_url', 'html_url', 'node_id', 'number', 'user', 'locked', 'assignee', 'assignees', 'milestone', 'created_at', 'updated_at', 'closed_at', 'author_association', 'active_lock_reason', 'reactions', 'timeline_url', 'performed_via_github_app', 'state_reason', 'draft']\n",
    "df_open = df_open.drop(to_remove, axis=1)\n",
    "df_closed = df_closed.drop(to_remove, axis=1)"
   ]
  },
  {
   "cell_type": "code",
   "execution_count": 15,
   "metadata": {},
   "outputs": [
    {
     "data": {
      "text/html": [
       "<div>\n",
       "<style scoped>\n",
       "    .dataframe tbody tr th:only-of-type {\n",
       "        vertical-align: middle;\n",
       "    }\n",
       "\n",
       "    .dataframe tbody tr th {\n",
       "        vertical-align: top;\n",
       "    }\n",
       "\n",
       "    .dataframe thead th {\n",
       "        text-align: right;\n",
       "    }\n",
       "</style>\n",
       "<table border=\"1\" class=\"dataframe\">\n",
       "  <thead>\n",
       "    <tr style=\"text-align: right;\">\n",
       "      <th></th>\n",
       "      <th>id</th>\n",
       "      <th>title</th>\n",
       "      <th>labels</th>\n",
       "      <th>state</th>\n",
       "      <th>comments</th>\n",
       "      <th>pull_request</th>\n",
       "      <th>body</th>\n",
       "    </tr>\n",
       "  </thead>\n",
       "  <tbody>\n",
       "    <tr>\n",
       "      <th>40</th>\n",
       "      <td>1382024358</td>\n",
       "      <td>[csp] Doesn't work with strict Content Securit...</td>\n",
       "      <td>[{'id': 846473836, 'node_id': 'MDU6TGFiZWw4NDY...</td>\n",
       "      <td>closed</td>\n",
       "      <td>1</td>\n",
       "      <td>NaN</td>\n",
       "      <td>## 🐛 Bug\\r\\n\\r\\nI need to add `unsafe-eval` to...</td>\n",
       "    </tr>\n",
       "    <tr>\n",
       "      <th>53</th>\n",
       "      <td>1377140782</td>\n",
       "      <td>`ModuleNotFoundError` when python modules impo...</td>\n",
       "      <td>[{'id': 846473836, 'node_id': 'MDU6TGFiZWw4NDY...</td>\n",
       "      <td>closed</td>\n",
       "      <td>4</td>\n",
       "      <td>NaN</td>\n",
       "      <td>## 🐛 Bug\\r\\nWhen modules (e.g. `numpytest.py`)...</td>\n",
       "    </tr>\n",
       "    <tr>\n",
       "      <th>80</th>\n",
       "      <td>1366776861</td>\n",
       "      <td>webpack complains about dynamic imports</td>\n",
       "      <td>[{'id': 846473836, 'node_id': 'MDU6TGFiZWw4NDY...</td>\n",
       "      <td>closed</td>\n",
       "      <td>1</td>\n",
       "      <td>NaN</td>\n",
       "      <td>## 🐛 Bug\\r\\n\\r\\nWhen using Pyodide with webpac...</td>\n",
       "    </tr>\n",
       "    <tr>\n",
       "      <th>81</th>\n",
       "      <td>1366711946</td>\n",
       "      <td>Missing source map in JavaScript package.</td>\n",
       "      <td>[{'id': 846473836, 'node_id': 'MDU6TGFiZWw4NDY...</td>\n",
       "      <td>closed</td>\n",
       "      <td>4</td>\n",
       "      <td>NaN</td>\n",
       "      <td>## 🐛 Bug\\r\\n\\r\\nWhen using Pyodide with Webpac...</td>\n",
       "    </tr>\n",
       "    <tr>\n",
       "      <th>89</th>\n",
       "      <td>1364009251</td>\n",
       "      <td>Calling `loadPyodide()` with `indexURL` result...</td>\n",
       "      <td>[{'id': 846473836, 'node_id': 'MDU6TGFiZWw4NDY...</td>\n",
       "      <td>closed</td>\n",
       "      <td>1</td>\n",
       "      <td>NaN</td>\n",
       "      <td>## 🐛 Bug\\r\\n\\r\\nWhen `loadPyodide()` is called...</td>\n",
       "    </tr>\n",
       "    <tr>\n",
       "      <th>...</th>\n",
       "      <td>...</td>\n",
       "      <td>...</td>\n",
       "      <td>...</td>\n",
       "      <td>...</td>\n",
       "      <td>...</td>\n",
       "      <td>...</td>\n",
       "      <td>...</td>\n",
       "    </tr>\n",
       "    <tr>\n",
       "      <th>2772</th>\n",
       "      <td>328540590</td>\n",
       "      <td>matplotlib figure doesn't update when elements...</td>\n",
       "      <td>[{'id': 846473836, 'node_id': 'MDU6TGFiZWw4NDY...</td>\n",
       "      <td>closed</td>\n",
       "      <td>3</td>\n",
       "      <td>NaN</td>\n",
       "      <td>It's somehow not triggering the call to `draw_...</td>\n",
       "    </tr>\n",
       "    <tr>\n",
       "      <th>2786</th>\n",
       "      <td>315967765</td>\n",
       "      <td>Make work on Chrome</td>\n",
       "      <td>[{'id': 846473836, 'node_id': 'MDU6TGFiZWw4NDY...</td>\n",
       "      <td>closed</td>\n",
       "      <td>2</td>\n",
       "      <td>NaN</td>\n",
       "      <td></td>\n",
       "    </tr>\n",
       "    <tr>\n",
       "      <th>2790</th>\n",
       "      <td>313980104</td>\n",
       "      <td>TypeError: window[languageModule][evaluator] i...</td>\n",
       "      <td>[{'id': 846473836, 'node_id': 'MDU6TGFiZWw4NDY...</td>\n",
       "      <td>closed</td>\n",
       "      <td>12</td>\n",
       "      <td>NaN</td>\n",
       "      <td>I tried https://iodide-project.github.io/pyodi...</td>\n",
       "    </tr>\n",
       "    <tr>\n",
       "      <th>2792</th>\n",
       "      <td>313430083</td>\n",
       "      <td>Punt to Javascript for text encoding/decoding</td>\n",
       "      <td>[{'id': 846473836, 'node_id': 'MDU6TGFiZWw4NDY...</td>\n",
       "      <td>closed</td>\n",
       "      <td>2</td>\n",
       "      <td>NaN</td>\n",
       "      <td>The tables for some of the larger CJK encoding...</td>\n",
       "    </tr>\n",
       "    <tr>\n",
       "      <th>2798</th>\n",
       "      <td>303192306</td>\n",
       "      <td>META: emscripten issues</td>\n",
       "      <td>[{'id': 846473836, 'node_id': 'MDU6TGFiZWw4NDY...</td>\n",
       "      <td>closed</td>\n",
       "      <td>0</td>\n",
       "      <td>NaN</td>\n",
       "      <td>This is a meta issue to track issues filed wit...</td>\n",
       "    </tr>\n",
       "  </tbody>\n",
       "</table>\n",
       "<p>152 rows × 7 columns</p>\n",
       "</div>"
      ],
      "text/plain": [
       "              id                                              title  \\\n",
       "40    1382024358  [csp] Doesn't work with strict Content Securit...   \n",
       "53    1377140782  `ModuleNotFoundError` when python modules impo...   \n",
       "80    1366776861            webpack complains about dynamic imports   \n",
       "81    1366711946          Missing source map in JavaScript package.   \n",
       "89    1364009251  Calling `loadPyodide()` with `indexURL` result...   \n",
       "...          ...                                                ...   \n",
       "2772   328540590  matplotlib figure doesn't update when elements...   \n",
       "2786   315967765                                Make work on Chrome   \n",
       "2790   313980104  TypeError: window[languageModule][evaluator] i...   \n",
       "2792   313430083      Punt to Javascript for text encoding/decoding   \n",
       "2798   303192306                            META: emscripten issues   \n",
       "\n",
       "                                                 labels   state  comments  \\\n",
       "40    [{'id': 846473836, 'node_id': 'MDU6TGFiZWw4NDY...  closed         1   \n",
       "53    [{'id': 846473836, 'node_id': 'MDU6TGFiZWw4NDY...  closed         4   \n",
       "80    [{'id': 846473836, 'node_id': 'MDU6TGFiZWw4NDY...  closed         1   \n",
       "81    [{'id': 846473836, 'node_id': 'MDU6TGFiZWw4NDY...  closed         4   \n",
       "89    [{'id': 846473836, 'node_id': 'MDU6TGFiZWw4NDY...  closed         1   \n",
       "...                                                 ...     ...       ...   \n",
       "2772  [{'id': 846473836, 'node_id': 'MDU6TGFiZWw4NDY...  closed         3   \n",
       "2786  [{'id': 846473836, 'node_id': 'MDU6TGFiZWw4NDY...  closed         2   \n",
       "2790  [{'id': 846473836, 'node_id': 'MDU6TGFiZWw4NDY...  closed        12   \n",
       "2792  [{'id': 846473836, 'node_id': 'MDU6TGFiZWw4NDY...  closed         2   \n",
       "2798  [{'id': 846473836, 'node_id': 'MDU6TGFiZWw4NDY...  closed         0   \n",
       "\n",
       "     pull_request                                               body  \n",
       "40            NaN  ## 🐛 Bug\\r\\n\\r\\nI need to add `unsafe-eval` to...  \n",
       "53            NaN  ## 🐛 Bug\\r\\nWhen modules (e.g. `numpytest.py`)...  \n",
       "80            NaN  ## 🐛 Bug\\r\\n\\r\\nWhen using Pyodide with webpac...  \n",
       "81            NaN  ## 🐛 Bug\\r\\n\\r\\nWhen using Pyodide with Webpac...  \n",
       "89            NaN  ## 🐛 Bug\\r\\n\\r\\nWhen `loadPyodide()` is called...  \n",
       "...           ...                                                ...  \n",
       "2772          NaN  It's somehow not triggering the call to `draw_...  \n",
       "2786          NaN                                                     \n",
       "2790          NaN  I tried https://iodide-project.github.io/pyodi...  \n",
       "2792          NaN  The tables for some of the larger CJK encoding...  \n",
       "2798          NaN  This is a meta issue to track issues filed wit...  \n",
       "\n",
       "[152 rows x 7 columns]"
      ]
     },
     "execution_count": 15,
     "metadata": {},
     "output_type": "execute_result"
    }
   ],
   "source": [
    "# Check of pull_request is not NaN for any and print the rows\n",
    "# Print all having bug in label\n",
    "df_closed[df_closed['labels'].apply(lambda x: any([label['name'] == 'bug' for label in x]))]"
   ]
  },
  {
   "cell_type": "code",
   "execution_count": 20,
   "metadata": {},
   "outputs": [],
   "source": [
    "# Plot the number of open issues per label\n",
    "# df_open['labels'].apply(lambda x: [label['name'] for label in x]).explode().value_counts().plot(kind='bar')"
   ]
  },
  {
   "cell_type": "code",
   "execution_count": 25,
   "metadata": {},
   "outputs": [
    {
     "data": {
      "application/vnd.plotly.v1+json": {
       "config": {
        "plotlyServerURL": "https://plot.ly"
       },
       "data": [
        {
         "alignmentgroup": "True",
         "hovertemplate": "variable=labels<br>index=%{x}<br>value=%{y}<extra></extra>",
         "legendgroup": "labels",
         "marker": {
          "color": "#636efa",
          "pattern": {
           "shape": ""
          }
         },
         "name": "labels",
         "offsetgroup": "labels",
         "orientation": "v",
         "showlegend": true,
         "textposition": "auto",
         "type": "bar",
         "x": [
          "bug",
          "enhancement",
          "help wanted",
          "performance",
          "build",
          "good first issue",
          "cpython",
          "Sprint",
          "testing",
          "numpy",
          "Javascript",
          "size & load time optimization",
          "documentation",
          "micropip",
          "WASM",
          "Python/C API",
          "Chromium",
          "roadmap",
          "package loading",
          "Fatal Error",
          "CI",
          "core / type conversions",
          "REPL",
          "wont-fix",
          "scipy",
          "new package request",
          "macOS",
          "scikit-learn",
          "node.js",
          "wont-implement",
          "Blocker",
          "Firefox",
          "design / API",
          "GSoC 2019",
          "regression",
          "HTML"
         ],
         "xaxis": "x",
         "y": [
          200,
          129,
          23,
          20,
          20,
          17,
          13,
          10,
          9,
          8,
          8,
          8,
          8,
          7,
          7,
          5,
          5,
          5,
          4,
          4,
          4,
          3,
          3,
          3,
          3,
          2,
          2,
          2,
          2,
          2,
          1,
          1,
          1,
          1,
          1,
          1
         ],
         "yaxis": "y"
        }
       ],
       "layout": {
        "barmode": "relative",
        "legend": {
         "title": {
          "text": "variable"
         },
         "tracegroupgap": 0
        },
        "margin": {
         "t": 60
        },
        "template": {
         "data": {
          "bar": [
           {
            "error_x": {
             "color": "#2a3f5f"
            },
            "error_y": {
             "color": "#2a3f5f"
            },
            "marker": {
             "line": {
              "color": "#E5ECF6",
              "width": 0.5
             },
             "pattern": {
              "fillmode": "overlay",
              "size": 10,
              "solidity": 0.2
             }
            },
            "type": "bar"
           }
          ],
          "barpolar": [
           {
            "marker": {
             "line": {
              "color": "#E5ECF6",
              "width": 0.5
             },
             "pattern": {
              "fillmode": "overlay",
              "size": 10,
              "solidity": 0.2
             }
            },
            "type": "barpolar"
           }
          ],
          "carpet": [
           {
            "aaxis": {
             "endlinecolor": "#2a3f5f",
             "gridcolor": "white",
             "linecolor": "white",
             "minorgridcolor": "white",
             "startlinecolor": "#2a3f5f"
            },
            "baxis": {
             "endlinecolor": "#2a3f5f",
             "gridcolor": "white",
             "linecolor": "white",
             "minorgridcolor": "white",
             "startlinecolor": "#2a3f5f"
            },
            "type": "carpet"
           }
          ],
          "choropleth": [
           {
            "colorbar": {
             "outlinewidth": 0,
             "ticks": ""
            },
            "type": "choropleth"
           }
          ],
          "contour": [
           {
            "colorbar": {
             "outlinewidth": 0,
             "ticks": ""
            },
            "colorscale": [
             [
              0,
              "#0d0887"
             ],
             [
              0.1111111111111111,
              "#46039f"
             ],
             [
              0.2222222222222222,
              "#7201a8"
             ],
             [
              0.3333333333333333,
              "#9c179e"
             ],
             [
              0.4444444444444444,
              "#bd3786"
             ],
             [
              0.5555555555555556,
              "#d8576b"
             ],
             [
              0.6666666666666666,
              "#ed7953"
             ],
             [
              0.7777777777777778,
              "#fb9f3a"
             ],
             [
              0.8888888888888888,
              "#fdca26"
             ],
             [
              1,
              "#f0f921"
             ]
            ],
            "type": "contour"
           }
          ],
          "contourcarpet": [
           {
            "colorbar": {
             "outlinewidth": 0,
             "ticks": ""
            },
            "type": "contourcarpet"
           }
          ],
          "heatmap": [
           {
            "colorbar": {
             "outlinewidth": 0,
             "ticks": ""
            },
            "colorscale": [
             [
              0,
              "#0d0887"
             ],
             [
              0.1111111111111111,
              "#46039f"
             ],
             [
              0.2222222222222222,
              "#7201a8"
             ],
             [
              0.3333333333333333,
              "#9c179e"
             ],
             [
              0.4444444444444444,
              "#bd3786"
             ],
             [
              0.5555555555555556,
              "#d8576b"
             ],
             [
              0.6666666666666666,
              "#ed7953"
             ],
             [
              0.7777777777777778,
              "#fb9f3a"
             ],
             [
              0.8888888888888888,
              "#fdca26"
             ],
             [
              1,
              "#f0f921"
             ]
            ],
            "type": "heatmap"
           }
          ],
          "heatmapgl": [
           {
            "colorbar": {
             "outlinewidth": 0,
             "ticks": ""
            },
            "colorscale": [
             [
              0,
              "#0d0887"
             ],
             [
              0.1111111111111111,
              "#46039f"
             ],
             [
              0.2222222222222222,
              "#7201a8"
             ],
             [
              0.3333333333333333,
              "#9c179e"
             ],
             [
              0.4444444444444444,
              "#bd3786"
             ],
             [
              0.5555555555555556,
              "#d8576b"
             ],
             [
              0.6666666666666666,
              "#ed7953"
             ],
             [
              0.7777777777777778,
              "#fb9f3a"
             ],
             [
              0.8888888888888888,
              "#fdca26"
             ],
             [
              1,
              "#f0f921"
             ]
            ],
            "type": "heatmapgl"
           }
          ],
          "histogram": [
           {
            "marker": {
             "pattern": {
              "fillmode": "overlay",
              "size": 10,
              "solidity": 0.2
             }
            },
            "type": "histogram"
           }
          ],
          "histogram2d": [
           {
            "colorbar": {
             "outlinewidth": 0,
             "ticks": ""
            },
            "colorscale": [
             [
              0,
              "#0d0887"
             ],
             [
              0.1111111111111111,
              "#46039f"
             ],
             [
              0.2222222222222222,
              "#7201a8"
             ],
             [
              0.3333333333333333,
              "#9c179e"
             ],
             [
              0.4444444444444444,
              "#bd3786"
             ],
             [
              0.5555555555555556,
              "#d8576b"
             ],
             [
              0.6666666666666666,
              "#ed7953"
             ],
             [
              0.7777777777777778,
              "#fb9f3a"
             ],
             [
              0.8888888888888888,
              "#fdca26"
             ],
             [
              1,
              "#f0f921"
             ]
            ],
            "type": "histogram2d"
           }
          ],
          "histogram2dcontour": [
           {
            "colorbar": {
             "outlinewidth": 0,
             "ticks": ""
            },
            "colorscale": [
             [
              0,
              "#0d0887"
             ],
             [
              0.1111111111111111,
              "#46039f"
             ],
             [
              0.2222222222222222,
              "#7201a8"
             ],
             [
              0.3333333333333333,
              "#9c179e"
             ],
             [
              0.4444444444444444,
              "#bd3786"
             ],
             [
              0.5555555555555556,
              "#d8576b"
             ],
             [
              0.6666666666666666,
              "#ed7953"
             ],
             [
              0.7777777777777778,
              "#fb9f3a"
             ],
             [
              0.8888888888888888,
              "#fdca26"
             ],
             [
              1,
              "#f0f921"
             ]
            ],
            "type": "histogram2dcontour"
           }
          ],
          "mesh3d": [
           {
            "colorbar": {
             "outlinewidth": 0,
             "ticks": ""
            },
            "type": "mesh3d"
           }
          ],
          "parcoords": [
           {
            "line": {
             "colorbar": {
              "outlinewidth": 0,
              "ticks": ""
             }
            },
            "type": "parcoords"
           }
          ],
          "pie": [
           {
            "automargin": true,
            "type": "pie"
           }
          ],
          "scatter": [
           {
            "fillpattern": {
             "fillmode": "overlay",
             "size": 10,
             "solidity": 0.2
            },
            "type": "scatter"
           }
          ],
          "scatter3d": [
           {
            "line": {
             "colorbar": {
              "outlinewidth": 0,
              "ticks": ""
             }
            },
            "marker": {
             "colorbar": {
              "outlinewidth": 0,
              "ticks": ""
             }
            },
            "type": "scatter3d"
           }
          ],
          "scattercarpet": [
           {
            "marker": {
             "colorbar": {
              "outlinewidth": 0,
              "ticks": ""
             }
            },
            "type": "scattercarpet"
           }
          ],
          "scattergeo": [
           {
            "marker": {
             "colorbar": {
              "outlinewidth": 0,
              "ticks": ""
             }
            },
            "type": "scattergeo"
           }
          ],
          "scattergl": [
           {
            "marker": {
             "colorbar": {
              "outlinewidth": 0,
              "ticks": ""
             }
            },
            "type": "scattergl"
           }
          ],
          "scattermapbox": [
           {
            "marker": {
             "colorbar": {
              "outlinewidth": 0,
              "ticks": ""
             }
            },
            "type": "scattermapbox"
           }
          ],
          "scatterpolar": [
           {
            "marker": {
             "colorbar": {
              "outlinewidth": 0,
              "ticks": ""
             }
            },
            "type": "scatterpolar"
           }
          ],
          "scatterpolargl": [
           {
            "marker": {
             "colorbar": {
              "outlinewidth": 0,
              "ticks": ""
             }
            },
            "type": "scatterpolargl"
           }
          ],
          "scatterternary": [
           {
            "marker": {
             "colorbar": {
              "outlinewidth": 0,
              "ticks": ""
             }
            },
            "type": "scatterternary"
           }
          ],
          "surface": [
           {
            "colorbar": {
             "outlinewidth": 0,
             "ticks": ""
            },
            "colorscale": [
             [
              0,
              "#0d0887"
             ],
             [
              0.1111111111111111,
              "#46039f"
             ],
             [
              0.2222222222222222,
              "#7201a8"
             ],
             [
              0.3333333333333333,
              "#9c179e"
             ],
             [
              0.4444444444444444,
              "#bd3786"
             ],
             [
              0.5555555555555556,
              "#d8576b"
             ],
             [
              0.6666666666666666,
              "#ed7953"
             ],
             [
              0.7777777777777778,
              "#fb9f3a"
             ],
             [
              0.8888888888888888,
              "#fdca26"
             ],
             [
              1,
              "#f0f921"
             ]
            ],
            "type": "surface"
           }
          ],
          "table": [
           {
            "cells": {
             "fill": {
              "color": "#EBF0F8"
             },
             "line": {
              "color": "white"
             }
            },
            "header": {
             "fill": {
              "color": "#C8D4E3"
             },
             "line": {
              "color": "white"
             }
            },
            "type": "table"
           }
          ]
         },
         "layout": {
          "annotationdefaults": {
           "arrowcolor": "#2a3f5f",
           "arrowhead": 0,
           "arrowwidth": 1
          },
          "autotypenumbers": "strict",
          "coloraxis": {
           "colorbar": {
            "outlinewidth": 0,
            "ticks": ""
           }
          },
          "colorscale": {
           "diverging": [
            [
             0,
             "#8e0152"
            ],
            [
             0.1,
             "#c51b7d"
            ],
            [
             0.2,
             "#de77ae"
            ],
            [
             0.3,
             "#f1b6da"
            ],
            [
             0.4,
             "#fde0ef"
            ],
            [
             0.5,
             "#f7f7f7"
            ],
            [
             0.6,
             "#e6f5d0"
            ],
            [
             0.7,
             "#b8e186"
            ],
            [
             0.8,
             "#7fbc41"
            ],
            [
             0.9,
             "#4d9221"
            ],
            [
             1,
             "#276419"
            ]
           ],
           "sequential": [
            [
             0,
             "#0d0887"
            ],
            [
             0.1111111111111111,
             "#46039f"
            ],
            [
             0.2222222222222222,
             "#7201a8"
            ],
            [
             0.3333333333333333,
             "#9c179e"
            ],
            [
             0.4444444444444444,
             "#bd3786"
            ],
            [
             0.5555555555555556,
             "#d8576b"
            ],
            [
             0.6666666666666666,
             "#ed7953"
            ],
            [
             0.7777777777777778,
             "#fb9f3a"
            ],
            [
             0.8888888888888888,
             "#fdca26"
            ],
            [
             1,
             "#f0f921"
            ]
           ],
           "sequentialminus": [
            [
             0,
             "#0d0887"
            ],
            [
             0.1111111111111111,
             "#46039f"
            ],
            [
             0.2222222222222222,
             "#7201a8"
            ],
            [
             0.3333333333333333,
             "#9c179e"
            ],
            [
             0.4444444444444444,
             "#bd3786"
            ],
            [
             0.5555555555555556,
             "#d8576b"
            ],
            [
             0.6666666666666666,
             "#ed7953"
            ],
            [
             0.7777777777777778,
             "#fb9f3a"
            ],
            [
             0.8888888888888888,
             "#fdca26"
            ],
            [
             1,
             "#f0f921"
            ]
           ]
          },
          "colorway": [
           "#636efa",
           "#EF553B",
           "#00cc96",
           "#ab63fa",
           "#FFA15A",
           "#19d3f3",
           "#FF6692",
           "#B6E880",
           "#FF97FF",
           "#FECB52"
          ],
          "font": {
           "color": "#2a3f5f"
          },
          "geo": {
           "bgcolor": "white",
           "lakecolor": "white",
           "landcolor": "#E5ECF6",
           "showlakes": true,
           "showland": true,
           "subunitcolor": "white"
          },
          "hoverlabel": {
           "align": "left"
          },
          "hovermode": "closest",
          "mapbox": {
           "style": "light"
          },
          "paper_bgcolor": "white",
          "plot_bgcolor": "#E5ECF6",
          "polar": {
           "angularaxis": {
            "gridcolor": "white",
            "linecolor": "white",
            "ticks": ""
           },
           "bgcolor": "#E5ECF6",
           "radialaxis": {
            "gridcolor": "white",
            "linecolor": "white",
            "ticks": ""
           }
          },
          "scene": {
           "xaxis": {
            "backgroundcolor": "#E5ECF6",
            "gridcolor": "white",
            "gridwidth": 2,
            "linecolor": "white",
            "showbackground": true,
            "ticks": "",
            "zerolinecolor": "white"
           },
           "yaxis": {
            "backgroundcolor": "#E5ECF6",
            "gridcolor": "white",
            "gridwidth": 2,
            "linecolor": "white",
            "showbackground": true,
            "ticks": "",
            "zerolinecolor": "white"
           },
           "zaxis": {
            "backgroundcolor": "#E5ECF6",
            "gridcolor": "white",
            "gridwidth": 2,
            "linecolor": "white",
            "showbackground": true,
            "ticks": "",
            "zerolinecolor": "white"
           }
          },
          "shapedefaults": {
           "line": {
            "color": "#2a3f5f"
           }
          },
          "ternary": {
           "aaxis": {
            "gridcolor": "white",
            "linecolor": "white",
            "ticks": ""
           },
           "baxis": {
            "gridcolor": "white",
            "linecolor": "white",
            "ticks": ""
           },
           "bgcolor": "#E5ECF6",
           "caxis": {
            "gridcolor": "white",
            "linecolor": "white",
            "ticks": ""
           }
          },
          "title": {
           "x": 0.05
          },
          "xaxis": {
           "automargin": true,
           "gridcolor": "white",
           "linecolor": "white",
           "ticks": "",
           "title": {
            "standoff": 15
           },
           "zerolinecolor": "white",
           "zerolinewidth": 2
          },
          "yaxis": {
           "automargin": true,
           "gridcolor": "white",
           "linecolor": "white",
           "ticks": "",
           "title": {
            "standoff": 15
           },
           "zerolinecolor": "white",
           "zerolinewidth": 2
          }
         }
        },
        "xaxis": {
         "anchor": "y",
         "domain": [
          0,
          1
         ],
         "title": {
          "text": "index"
         }
        },
        "yaxis": {
         "anchor": "x",
         "domain": [
          0,
          1
         ],
         "title": {
          "text": "value"
         }
        }
       }
      }
     },
     "metadata": {},
     "output_type": "display_data"
    }
   ],
   "source": [
    "fig = px.bar(df['labels'].apply(lambda x: [label['name'] for label in x]).explode().value_counts())\n",
    "fig.show()"
   ]
  },
  {
   "cell_type": "code",
   "execution_count": 24,
   "metadata": {},
   "outputs": [
    {
     "data": {
      "application/vnd.plotly.v1+json": {
       "config": {
        "plotlyServerURL": "https://plot.ly"
       },
       "data": [
        {
         "alignmentgroup": "True",
         "hovertemplate": "variable=labels<br>index=%{x}<br>value=%{y}<extra></extra>",
         "legendgroup": "labels",
         "marker": {
          "color": "#636efa",
          "pattern": {
           "shape": ""
          }
         },
         "name": "labels",
         "offsetgroup": "labels",
         "orientation": "v",
         "showlegend": true,
         "textposition": "auto",
         "type": "bar",
         "x": [
          "bug",
          "enhancement",
          "help wanted",
          "build",
          "good first issue",
          "cpython",
          "performance",
          "Sprint",
          "Javascript",
          "testing",
          "WASM",
          "micropip",
          "Chromium",
          "numpy",
          "Python/C API",
          "documentation",
          "package loading",
          "wont-fix",
          "REPL",
          "CI",
          "Fatal Error",
          "scipy",
          "new package request",
          "scikit-learn",
          "node.js",
          "macOS",
          "regression",
          "Firefox",
          "core / type conversions",
          "Blocker",
          "size & load time optimization",
          "HTML"
         ],
         "xaxis": "x",
         "y": [
          152,
          77,
          18,
          16,
          15,
          13,
          11,
          8,
          8,
          8,
          7,
          7,
          5,
          5,
          5,
          4,
          3,
          3,
          3,
          3,
          3,
          2,
          2,
          2,
          2,
          1,
          1,
          1,
          1,
          1,
          1,
          1
         ],
         "yaxis": "y"
        }
       ],
       "layout": {
        "barmode": "relative",
        "legend": {
         "title": {
          "text": "variable"
         },
         "tracegroupgap": 0
        },
        "margin": {
         "t": 60
        },
        "template": {
         "data": {
          "bar": [
           {
            "error_x": {
             "color": "#2a3f5f"
            },
            "error_y": {
             "color": "#2a3f5f"
            },
            "marker": {
             "line": {
              "color": "#E5ECF6",
              "width": 0.5
             },
             "pattern": {
              "fillmode": "overlay",
              "size": 10,
              "solidity": 0.2
             }
            },
            "type": "bar"
           }
          ],
          "barpolar": [
           {
            "marker": {
             "line": {
              "color": "#E5ECF6",
              "width": 0.5
             },
             "pattern": {
              "fillmode": "overlay",
              "size": 10,
              "solidity": 0.2
             }
            },
            "type": "barpolar"
           }
          ],
          "carpet": [
           {
            "aaxis": {
             "endlinecolor": "#2a3f5f",
             "gridcolor": "white",
             "linecolor": "white",
             "minorgridcolor": "white",
             "startlinecolor": "#2a3f5f"
            },
            "baxis": {
             "endlinecolor": "#2a3f5f",
             "gridcolor": "white",
             "linecolor": "white",
             "minorgridcolor": "white",
             "startlinecolor": "#2a3f5f"
            },
            "type": "carpet"
           }
          ],
          "choropleth": [
           {
            "colorbar": {
             "outlinewidth": 0,
             "ticks": ""
            },
            "type": "choropleth"
           }
          ],
          "contour": [
           {
            "colorbar": {
             "outlinewidth": 0,
             "ticks": ""
            },
            "colorscale": [
             [
              0,
              "#0d0887"
             ],
             [
              0.1111111111111111,
              "#46039f"
             ],
             [
              0.2222222222222222,
              "#7201a8"
             ],
             [
              0.3333333333333333,
              "#9c179e"
             ],
             [
              0.4444444444444444,
              "#bd3786"
             ],
             [
              0.5555555555555556,
              "#d8576b"
             ],
             [
              0.6666666666666666,
              "#ed7953"
             ],
             [
              0.7777777777777778,
              "#fb9f3a"
             ],
             [
              0.8888888888888888,
              "#fdca26"
             ],
             [
              1,
              "#f0f921"
             ]
            ],
            "type": "contour"
           }
          ],
          "contourcarpet": [
           {
            "colorbar": {
             "outlinewidth": 0,
             "ticks": ""
            },
            "type": "contourcarpet"
           }
          ],
          "heatmap": [
           {
            "colorbar": {
             "outlinewidth": 0,
             "ticks": ""
            },
            "colorscale": [
             [
              0,
              "#0d0887"
             ],
             [
              0.1111111111111111,
              "#46039f"
             ],
             [
              0.2222222222222222,
              "#7201a8"
             ],
             [
              0.3333333333333333,
              "#9c179e"
             ],
             [
              0.4444444444444444,
              "#bd3786"
             ],
             [
              0.5555555555555556,
              "#d8576b"
             ],
             [
              0.6666666666666666,
              "#ed7953"
             ],
             [
              0.7777777777777778,
              "#fb9f3a"
             ],
             [
              0.8888888888888888,
              "#fdca26"
             ],
             [
              1,
              "#f0f921"
             ]
            ],
            "type": "heatmap"
           }
          ],
          "heatmapgl": [
           {
            "colorbar": {
             "outlinewidth": 0,
             "ticks": ""
            },
            "colorscale": [
             [
              0,
              "#0d0887"
             ],
             [
              0.1111111111111111,
              "#46039f"
             ],
             [
              0.2222222222222222,
              "#7201a8"
             ],
             [
              0.3333333333333333,
              "#9c179e"
             ],
             [
              0.4444444444444444,
              "#bd3786"
             ],
             [
              0.5555555555555556,
              "#d8576b"
             ],
             [
              0.6666666666666666,
              "#ed7953"
             ],
             [
              0.7777777777777778,
              "#fb9f3a"
             ],
             [
              0.8888888888888888,
              "#fdca26"
             ],
             [
              1,
              "#f0f921"
             ]
            ],
            "type": "heatmapgl"
           }
          ],
          "histogram": [
           {
            "marker": {
             "pattern": {
              "fillmode": "overlay",
              "size": 10,
              "solidity": 0.2
             }
            },
            "type": "histogram"
           }
          ],
          "histogram2d": [
           {
            "colorbar": {
             "outlinewidth": 0,
             "ticks": ""
            },
            "colorscale": [
             [
              0,
              "#0d0887"
             ],
             [
              0.1111111111111111,
              "#46039f"
             ],
             [
              0.2222222222222222,
              "#7201a8"
             ],
             [
              0.3333333333333333,
              "#9c179e"
             ],
             [
              0.4444444444444444,
              "#bd3786"
             ],
             [
              0.5555555555555556,
              "#d8576b"
             ],
             [
              0.6666666666666666,
              "#ed7953"
             ],
             [
              0.7777777777777778,
              "#fb9f3a"
             ],
             [
              0.8888888888888888,
              "#fdca26"
             ],
             [
              1,
              "#f0f921"
             ]
            ],
            "type": "histogram2d"
           }
          ],
          "histogram2dcontour": [
           {
            "colorbar": {
             "outlinewidth": 0,
             "ticks": ""
            },
            "colorscale": [
             [
              0,
              "#0d0887"
             ],
             [
              0.1111111111111111,
              "#46039f"
             ],
             [
              0.2222222222222222,
              "#7201a8"
             ],
             [
              0.3333333333333333,
              "#9c179e"
             ],
             [
              0.4444444444444444,
              "#bd3786"
             ],
             [
              0.5555555555555556,
              "#d8576b"
             ],
             [
              0.6666666666666666,
              "#ed7953"
             ],
             [
              0.7777777777777778,
              "#fb9f3a"
             ],
             [
              0.8888888888888888,
              "#fdca26"
             ],
             [
              1,
              "#f0f921"
             ]
            ],
            "type": "histogram2dcontour"
           }
          ],
          "mesh3d": [
           {
            "colorbar": {
             "outlinewidth": 0,
             "ticks": ""
            },
            "type": "mesh3d"
           }
          ],
          "parcoords": [
           {
            "line": {
             "colorbar": {
              "outlinewidth": 0,
              "ticks": ""
             }
            },
            "type": "parcoords"
           }
          ],
          "pie": [
           {
            "automargin": true,
            "type": "pie"
           }
          ],
          "scatter": [
           {
            "fillpattern": {
             "fillmode": "overlay",
             "size": 10,
             "solidity": 0.2
            },
            "type": "scatter"
           }
          ],
          "scatter3d": [
           {
            "line": {
             "colorbar": {
              "outlinewidth": 0,
              "ticks": ""
             }
            },
            "marker": {
             "colorbar": {
              "outlinewidth": 0,
              "ticks": ""
             }
            },
            "type": "scatter3d"
           }
          ],
          "scattercarpet": [
           {
            "marker": {
             "colorbar": {
              "outlinewidth": 0,
              "ticks": ""
             }
            },
            "type": "scattercarpet"
           }
          ],
          "scattergeo": [
           {
            "marker": {
             "colorbar": {
              "outlinewidth": 0,
              "ticks": ""
             }
            },
            "type": "scattergeo"
           }
          ],
          "scattergl": [
           {
            "marker": {
             "colorbar": {
              "outlinewidth": 0,
              "ticks": ""
             }
            },
            "type": "scattergl"
           }
          ],
          "scattermapbox": [
           {
            "marker": {
             "colorbar": {
              "outlinewidth": 0,
              "ticks": ""
             }
            },
            "type": "scattermapbox"
           }
          ],
          "scatterpolar": [
           {
            "marker": {
             "colorbar": {
              "outlinewidth": 0,
              "ticks": ""
             }
            },
            "type": "scatterpolar"
           }
          ],
          "scatterpolargl": [
           {
            "marker": {
             "colorbar": {
              "outlinewidth": 0,
              "ticks": ""
             }
            },
            "type": "scatterpolargl"
           }
          ],
          "scatterternary": [
           {
            "marker": {
             "colorbar": {
              "outlinewidth": 0,
              "ticks": ""
             }
            },
            "type": "scatterternary"
           }
          ],
          "surface": [
           {
            "colorbar": {
             "outlinewidth": 0,
             "ticks": ""
            },
            "colorscale": [
             [
              0,
              "#0d0887"
             ],
             [
              0.1111111111111111,
              "#46039f"
             ],
             [
              0.2222222222222222,
              "#7201a8"
             ],
             [
              0.3333333333333333,
              "#9c179e"
             ],
             [
              0.4444444444444444,
              "#bd3786"
             ],
             [
              0.5555555555555556,
              "#d8576b"
             ],
             [
              0.6666666666666666,
              "#ed7953"
             ],
             [
              0.7777777777777778,
              "#fb9f3a"
             ],
             [
              0.8888888888888888,
              "#fdca26"
             ],
             [
              1,
              "#f0f921"
             ]
            ],
            "type": "surface"
           }
          ],
          "table": [
           {
            "cells": {
             "fill": {
              "color": "#EBF0F8"
             },
             "line": {
              "color": "white"
             }
            },
            "header": {
             "fill": {
              "color": "#C8D4E3"
             },
             "line": {
              "color": "white"
             }
            },
            "type": "table"
           }
          ]
         },
         "layout": {
          "annotationdefaults": {
           "arrowcolor": "#2a3f5f",
           "arrowhead": 0,
           "arrowwidth": 1
          },
          "autotypenumbers": "strict",
          "coloraxis": {
           "colorbar": {
            "outlinewidth": 0,
            "ticks": ""
           }
          },
          "colorscale": {
           "diverging": [
            [
             0,
             "#8e0152"
            ],
            [
             0.1,
             "#c51b7d"
            ],
            [
             0.2,
             "#de77ae"
            ],
            [
             0.3,
             "#f1b6da"
            ],
            [
             0.4,
             "#fde0ef"
            ],
            [
             0.5,
             "#f7f7f7"
            ],
            [
             0.6,
             "#e6f5d0"
            ],
            [
             0.7,
             "#b8e186"
            ],
            [
             0.8,
             "#7fbc41"
            ],
            [
             0.9,
             "#4d9221"
            ],
            [
             1,
             "#276419"
            ]
           ],
           "sequential": [
            [
             0,
             "#0d0887"
            ],
            [
             0.1111111111111111,
             "#46039f"
            ],
            [
             0.2222222222222222,
             "#7201a8"
            ],
            [
             0.3333333333333333,
             "#9c179e"
            ],
            [
             0.4444444444444444,
             "#bd3786"
            ],
            [
             0.5555555555555556,
             "#d8576b"
            ],
            [
             0.6666666666666666,
             "#ed7953"
            ],
            [
             0.7777777777777778,
             "#fb9f3a"
            ],
            [
             0.8888888888888888,
             "#fdca26"
            ],
            [
             1,
             "#f0f921"
            ]
           ],
           "sequentialminus": [
            [
             0,
             "#0d0887"
            ],
            [
             0.1111111111111111,
             "#46039f"
            ],
            [
             0.2222222222222222,
             "#7201a8"
            ],
            [
             0.3333333333333333,
             "#9c179e"
            ],
            [
             0.4444444444444444,
             "#bd3786"
            ],
            [
             0.5555555555555556,
             "#d8576b"
            ],
            [
             0.6666666666666666,
             "#ed7953"
            ],
            [
             0.7777777777777778,
             "#fb9f3a"
            ],
            [
             0.8888888888888888,
             "#fdca26"
            ],
            [
             1,
             "#f0f921"
            ]
           ]
          },
          "colorway": [
           "#636efa",
           "#EF553B",
           "#00cc96",
           "#ab63fa",
           "#FFA15A",
           "#19d3f3",
           "#FF6692",
           "#B6E880",
           "#FF97FF",
           "#FECB52"
          ],
          "font": {
           "color": "#2a3f5f"
          },
          "geo": {
           "bgcolor": "white",
           "lakecolor": "white",
           "landcolor": "#E5ECF6",
           "showlakes": true,
           "showland": true,
           "subunitcolor": "white"
          },
          "hoverlabel": {
           "align": "left"
          },
          "hovermode": "closest",
          "mapbox": {
           "style": "light"
          },
          "paper_bgcolor": "white",
          "plot_bgcolor": "#E5ECF6",
          "polar": {
           "angularaxis": {
            "gridcolor": "white",
            "linecolor": "white",
            "ticks": ""
           },
           "bgcolor": "#E5ECF6",
           "radialaxis": {
            "gridcolor": "white",
            "linecolor": "white",
            "ticks": ""
           }
          },
          "scene": {
           "xaxis": {
            "backgroundcolor": "#E5ECF6",
            "gridcolor": "white",
            "gridwidth": 2,
            "linecolor": "white",
            "showbackground": true,
            "ticks": "",
            "zerolinecolor": "white"
           },
           "yaxis": {
            "backgroundcolor": "#E5ECF6",
            "gridcolor": "white",
            "gridwidth": 2,
            "linecolor": "white",
            "showbackground": true,
            "ticks": "",
            "zerolinecolor": "white"
           },
           "zaxis": {
            "backgroundcolor": "#E5ECF6",
            "gridcolor": "white",
            "gridwidth": 2,
            "linecolor": "white",
            "showbackground": true,
            "ticks": "",
            "zerolinecolor": "white"
           }
          },
          "shapedefaults": {
           "line": {
            "color": "#2a3f5f"
           }
          },
          "ternary": {
           "aaxis": {
            "gridcolor": "white",
            "linecolor": "white",
            "ticks": ""
           },
           "baxis": {
            "gridcolor": "white",
            "linecolor": "white",
            "ticks": ""
           },
           "bgcolor": "#E5ECF6",
           "caxis": {
            "gridcolor": "white",
            "linecolor": "white",
            "ticks": ""
           }
          },
          "title": {
           "x": 0.05
          },
          "xaxis": {
           "automargin": true,
           "gridcolor": "white",
           "linecolor": "white",
           "ticks": "",
           "title": {
            "standoff": 15
           },
           "zerolinecolor": "white",
           "zerolinewidth": 2
          },
          "yaxis": {
           "automargin": true,
           "gridcolor": "white",
           "linecolor": "white",
           "ticks": "",
           "title": {
            "standoff": 15
           },
           "zerolinecolor": "white",
           "zerolinewidth": 2
          }
         }
        },
        "xaxis": {
         "anchor": "y",
         "domain": [
          0,
          1
         ],
         "title": {
          "text": "index"
         }
        },
        "yaxis": {
         "anchor": "x",
         "domain": [
          0,
          1
         ],
         "title": {
          "text": "value"
         }
        }
       }
      }
     },
     "metadata": {},
     "output_type": "display_data"
    }
   ],
   "source": [
    "# Closed issues vs open issues\n",
    "# Using plotly\n"
   ]
  },
  {
   "cell_type": "code",
   "execution_count": 38,
   "metadata": {},
   "outputs": [
    {
     "name": "stdout",
     "output_type": "stream",
     "text": [
      "Empty DataFrame\n",
      "Columns: [url, repository_url, labels_url, comments_url, events_url, html_url, id, node_id, number, title, user, labels, state, locked, assignee, assignees, milestone, comments, created_at, updated_at, closed_at, author_association, active_lock_reason, body, reactions, timeline_url, performed_via_github_app, state_reason, draft, pull_request]\n",
      "Index: []\n",
      "\n",
      "[0 rows x 30 columns]\n"
     ]
    }
   ],
   "source": [
    "\n",
    "\n"
   ]
  },
  {
   "cell_type": "code",
   "execution_count": null,
   "metadata": {},
   "outputs": [],
   "source": []
  }
 ],
 "metadata": {
  "kernelspec": {
   "display_name": "Python 3.10.6 64-bit",
   "language": "python",
   "name": "python3"
  },
  "language_info": {
   "codemirror_mode": {
    "name": "ipython",
    "version": 3
   },
   "file_extension": ".py",
   "mimetype": "text/x-python",
   "name": "python",
   "nbconvert_exporter": "python",
   "pygments_lexer": "ipython3",
   "version": "3.10.6"
  },
  "orig_nbformat": 4,
  "vscode": {
   "interpreter": {
    "hash": "b0fa6594d8f4cbf19f97940f81e996739fb7646882a419484c72d19e05852a7e"
   }
  }
 },
 "nbformat": 4,
 "nbformat_minor": 2
}
